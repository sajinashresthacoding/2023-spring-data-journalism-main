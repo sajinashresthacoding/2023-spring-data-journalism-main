{
 "cells": [
  {
   "cell_type": "markdown",
   "id": "1d64966a",
   "metadata": {
    "id": "1d64966a"
   },
   "source": [
    "## Pandas - Importing data\n",
    "\n",
    "Please download from Google Drive <a href=\"https://drive.google.com/file/d/1lN5Eh2wz_DDOlcI7as9gQcmUALNqs0_y/view?usp=share_link\">this data</a>."
   ]
  },
  {
   "cell_type": "code",
   "execution_count": null,
   "id": "e8c6fb4b",
   "metadata": {
    "id": "e8c6fb4b"
   },
   "outputs": [],
   "source": [
    "## import the pandas library in this cell\n",
    "\n"
   ]
  },
  {
   "cell_type": "markdown",
   "id": "415d55dd",
   "metadata": {
    "id": "415d55dd"
   },
   "source": [
    "### Ingest the following dataset into this note:\n",
    "\n",
    "- ```ems_2019_first_6_months.csv``` into a dataframe named ```ems_19_first_df```"
   ]
  },
  {
   "cell_type": "code",
   "execution_count": null,
   "id": "2609f6fb",
   "metadata": {
    "id": "2609f6fb"
   },
   "outputs": [],
   "source": [
    "## import data and store in dataframe\n"
   ]
  },
  {
   "cell_type": "code",
   "execution_count": null,
   "id": "ec3cb6b2",
   "metadata": {
    "id": "ec3cb6b2"
   },
   "outputs": [],
   "source": [
    "## call the first 10 rows\n"
   ]
  },
  {
   "cell_type": "code",
   "execution_count": null,
   "id": "fb59614c",
   "metadata": {
    "id": "fb59614c"
   },
   "outputs": [],
   "source": [
    "## call the last 5 rows\n"
   ]
  },
  {
   "cell_type": "code",
   "execution_count": null,
   "id": "0953ae2d",
   "metadata": {
    "id": "0953ae2d"
   },
   "outputs": [],
   "source": [
    "## call a 20 random rows\n"
   ]
  },
  {
   "cell_type": "code",
   "execution_count": null,
   "id": "68c744d9",
   "metadata": {
    "id": "68c744d9"
   },
   "outputs": [],
   "source": [
    "## get basic overview of the data\n",
    "## what datatypes do the different columns hold?\n",
    "## how many rows and columns are there?\n"
   ]
  },
  {
   "cell_type": "markdown",
   "id": "f1020f11",
   "metadata": {
    "id": "f1020f11"
   },
   "source": [
    "### In three separate cells, ingest the 3 other related datasets into this notebook:\n",
    "\n",
    "- ```ems_2019_last_6_months.csv``` into a dataframe named ```ems_19_last_df```\n",
    "- ```ems_2020_first_6_months.csv``` into a dataframe named ```ems_20_first_df```\n",
    "- ```ems_2020_last_6_months.csv``` into a dataframe named ```ems_20_last_df```\n",
    "\n",
    "We want to combine all 4 dataframes so we can run an analysis on the combined dataframes\n"
   ]
  },
  {
   "cell_type": "code",
   "execution_count": null,
   "id": "4272c69a",
   "metadata": {
    "id": "4272c69a"
   },
   "outputs": [],
   "source": [
    "### For last 6 months of 2019\n",
    "## call the dataframe to see what you have\n",
    "\n"
   ]
  },
  {
   "cell_type": "code",
   "execution_count": null,
   "id": "6f9e53a6",
   "metadata": {
    "id": "6f9e53a6"
   },
   "outputs": [],
   "source": [
    "### For first 6 months of 2020\n",
    "## call the dataframe to see what you have\n"
   ]
  },
  {
   "cell_type": "code",
   "execution_count": null,
   "id": "0194fc58",
   "metadata": {
    "id": "0194fc58"
   },
   "outputs": [],
   "source": [
    "### For last 6 months of 2020\n",
    "## call the dataframe to see what you have\n",
    "\n"
   ]
  },
  {
   "cell_type": "markdown",
   "id": "99e9a5b2",
   "metadata": {
    "id": "99e9a5b2"
   },
   "source": [
    "## Combine the 4 dataframes\n"
   ]
  },
  {
   "cell_type": "code",
   "execution_count": null,
   "id": "04b2e0c4",
   "metadata": {
    "id": "04b2e0c4"
   },
   "outputs": [],
   "source": [
    "## create a list to combine all \n"
   ]
  },
  {
   "cell_type": "code",
   "execution_count": null,
   "id": "eeed6d15",
   "metadata": {
    "id": "eeed6d15"
   },
   "outputs": [],
   "source": [
    "## combine (concat) the dfs\n"
   ]
  },
  {
   "cell_type": "markdown",
   "id": "e2799b62",
   "metadata": {
    "id": "e2799b62"
   },
   "source": [
    "#### Programmatically (not with a calculator) confirm that their row totals add up to the correct number"
   ]
  },
  {
   "cell_type": "code",
   "execution_count": null,
   "id": "0105c8bf",
   "metadata": {
    "id": "0105c8bf"
   },
   "outputs": [],
   "source": [
    "## how many rows does the combined df have\n"
   ]
  },
  {
   "cell_type": "code",
   "execution_count": null,
   "id": "5b30b4a7",
   "metadata": {
    "id": "5b30b4a7"
   },
   "outputs": [],
   "source": [
    "## get total rows when you add up all the individual dataframes\n",
    "\n"
   ]
  },
  {
   "cell_type": "markdown",
   "id": "a0fd21e7",
   "metadata": {
    "id": "a0fd21e7"
   },
   "source": [
    "## Ingest Massive Dataset\n",
    "\n",
    "Step 1. Open ```global_temps.csv``` in Excel first. What happened?\n",
    "\n",
    "Step 2. Open this data set in Pandas."
   ]
  },
  {
   "cell_type": "code",
   "execution_count": null,
   "id": "aa9d11eb",
   "metadata": {
    "id": "aa9d11eb"
   },
   "outputs": [],
   "source": [
    "## import global_temps.csv into a df called temps_df\n",
    "\n",
    "\n"
   ]
  },
  {
   "cell_type": "markdown",
   "id": "eb0ac93d",
   "metadata": {
    "id": "eb0ac93d"
   },
   "source": [
    "## How many rows of data does this dataset have?"
   ]
  },
  {
   "cell_type": "code",
   "execution_count": null,
   "id": "1aaed466",
   "metadata": {
    "id": "1aaed466"
   },
   "outputs": [],
   "source": [
    "## How many rows?"
   ]
  },
  {
   "cell_type": "markdown",
   "id": "c4cf8408",
   "metadata": {
    "id": "c4cf8408"
   },
   "source": [
    "## Targeting an Excel sheet\n",
    "\n",
    "We need the Customs and Border Protection data in this ```multi-data.xlsx``` workbook.\n",
    "\n",
    "Note that this is an excerpt of the actual CBP data."
   ]
  },
  {
   "cell_type": "code",
   "execution_count": null,
   "id": "51b4ce7b",
   "metadata": {
    "id": "51b4ce7b"
   },
   "outputs": [],
   "source": [
    "### import it here\n"
   ]
  },
  {
   "cell_type": "code",
   "execution_count": null,
   "id": "63736197",
   "metadata": {
    "id": "63736197"
   },
   "outputs": [],
   "source": [
    "## call the top 15 rows\n"
   ]
  },
  {
   "cell_type": "code",
   "execution_count": null,
   "id": "6ff6132b",
   "metadata": {
    "id": "6ff6132b"
   },
   "outputs": [],
   "source": []
  }
 ],
 "metadata": {
  "colab": {
   "provenance": []
  },
  "kernelspec": {
   "display_name": "Python 3 (ipykernel)",
   "language": "python",
   "name": "python3"
  },
  "language_info": {
   "codemirror_mode": {
    "name": "ipython",
    "version": 3
   },
   "file_extension": ".py",
   "mimetype": "text/x-python",
   "name": "python",
   "nbconvert_exporter": "python",
   "pygments_lexer": "ipython3",
   "version": "3.9.7"
  }
 },
 "nbformat": 4,
 "nbformat_minor": 5
}
